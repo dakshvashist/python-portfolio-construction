{
 "cells": [
  {
   "cell_type": "code",
   "execution_count": 1,
   "metadata": {},
   "outputs": [
    {
     "name": "stderr",
     "output_type": "stream",
     "text": [
      "c:\\Users\\Daksh Vashist\\AppData\\Local\\Programs\\Python\\Python310\\lib\\site-packages\\yfinance\\base.py:48: FutureWarning: The default dtype for empty Series will be 'object' instead of 'float64' in a future version. Specify a dtype explicitly to silence this warning.\n",
      "  _empty_series = pd.Series()\n"
     ]
    }
   ],
   "source": [
    "import datetime as dt\n",
    "import matplotlib.pyplot as plt\n",
    "from matplotlib import style\n",
    "import pandas as pd\n",
    "import pandas_datareader.data as web\n",
    "import yfinance as yf\n",
    "import numpy as np"
   ]
  },
  {
   "cell_type": "code",
   "execution_count": 2,
   "metadata": {},
   "outputs": [],
   "source": [
    "sp500_constituents = pd.read_html('https://en.wikipedia.org/wiki/List_of_S%26P_500_companies')[0]\n",
    "sp500_constituents.drop(sp500_constituents.columns[[1, 2, 3, 4, 5, 6, 7]], axis=1, inplace=True)"
   ]
  },
  {
   "cell_type": "code",
   "execution_count": 3,
   "metadata": {},
   "outputs": [],
   "source": [
    "sp500_list = sp500_constituents['Symbol'].to_list()\n",
    "\n",
    "sp500_list.remove('BRK.B')\n",
    "sp500_list.remove('BF.B')"
   ]
  },
  {
   "cell_type": "code",
   "execution_count": 4,
   "metadata": {},
   "outputs": [],
   "source": [
    "final_df = pd.DataFrame({'Stock Code': sp500_list,\n",
    "                             'Momentum Score (C)': np.nan})"
   ]
  },
  {
   "cell_type": "code",
   "execution_count": 5,
   "metadata": {},
   "outputs": [],
   "source": [
    "start = dt.datetime(2019, 1, 1)\n",
    "end = dt.datetime(2023, 12, 31)"
   ]
  },
  {
   "cell_type": "code",
   "execution_count": 6,
   "metadata": {},
   "outputs": [],
   "source": [
    "# Creating an empty dataframe for all of the stocks of S&P 500\n",
    "sp500_histdata = pd.DataFrame({\n",
    "    'Date':pd.date_range(start, end)\n",
    "    }\n",
    ")\n",
    "#sp500_histdata[sp500_list] = np.nan"
   ]
  },
  {
   "cell_type": "code",
   "execution_count": null,
   "metadata": {},
   "outputs": [],
   "source": [
    "sp500_histdata.tail()"
   ]
  },
  {
   "cell_type": "code",
   "execution_count": null,
   "metadata": {},
   "outputs": [],
   "source": [
    "# Data extraction using STOOQ\n",
    "\n",
    "name = 'AMZN'\n",
    "df = web.DataReader(name, 'stooq', start, end)\n",
    "df.rename(columns={'Close':name}, inplace=True)\n",
    "df.reset_index(inplace=True)\n",
    "#df.drop(df.columns[[1, 2, 3, 5]], axis=1, inplace=True)\n",
    "\n",
    "df.head()"
   ]
  },
  {
   "cell_type": "code",
   "execution_count": 9,
   "metadata": {},
   "outputs": [],
   "source": [
    "# Data extraction using YFINANCE\n",
    "\n",
    "amazon = yf.Ticker('AMZN')\n",
    "amazon_data = amazon.history(period='5y')\n",
    "amazon_data.reset_index(inplace=True)\n",
    "amazon_data.drop(amazon_data.columns[[1, 2, 3, 5, 6, 7]], axis=1, inplace=True)"
   ]
  },
  {
   "cell_type": "code",
   "execution_count": 10,
   "metadata": {},
   "outputs": [],
   "source": [
    " # Download stock close prices of a list of stocks using yfinance\n",
    "\n",
    "for stock in sp500_list:\n",
    "    try:\n",
    "        df = yf.Ticker(stock).history(period='5y')\n",
    "        df.rename(columns={'Close':stock}, inplace=True)\n",
    "        df.reset_index(inplace=True)\n",
    "        df.drop(df.columns[[1, 2, 3, 5, 6, 7]], axis=1, inplace=True)\n",
    "        df.to_csv(stock + '.csv')\n",
    "    except:\n",
    "        pass"
   ]
  },
  {
   "cell_type": "code",
   "execution_count": 29,
   "metadata": {},
   "outputs": [],
   "source": [
    "# Changing format of Date column to datetime type\n",
    "\n",
    "for stock in sp500_list:\n",
    "    try:\n",
    "        df = pd.read_csv(stock+'.csv')\n",
    "        df['Date'] = pd.to_datetime(df['Date'], utc=True)\n",
    "        df['Date'] = df['Date'].dt.strftime('%Y-%m-%d')\n",
    "        df.to_csv(stock+'.csv')\n",
    "    except:\n",
    "        print ('error')\n"
   ]
  },
  {
   "cell_type": "code",
   "execution_count": 83,
   "metadata": {},
   "outputs": [],
   "source": [
    "# Historical data prepared by joining stock price data of all S&P 500 stocks\n",
    "\n",
    "for stock in sp500_list:\n",
    "    df = pd.read_csv(stock + '.csv')\n",
    "    df['Date'] = pd.to_datetime(df['Date'])\n",
    "    df.drop(df.columns[[0, 1]], axis=1, inplace=True)\n",
    "    sp500_histdata = pd.merge(left=sp500_histdata,\n",
    "                     right=df,\n",
    "                     left_on=\"Date\",\n",
    "                     right_on=\"Date\",\n",
    "                     how=\"outer\")\n",
    "\n",
    "sp500_histdata.to_csv('sp500_histdata.csv')\n",
    "    "
   ]
  },
  {
   "cell_type": "code",
   "execution_count": 85,
   "metadata": {},
   "outputs": [],
   "source": [
    "df = pd.read_csv('sp500_histdata.csv')\n",
    "df.drop(df.columns[[0]], axis=1, inplace=True)\n",
    "df.index = df['Date']\n",
    "df.drop(df.columns[[0]], axis=1, inplace=True)\n",
    "df.dropna(axis=0, how='all', inplace=True)\n",
    "\n",
    "df.to_csv('sp500_histdata.csv')"
   ]
  },
  {
   "cell_type": "code",
   "execution_count": null,
   "metadata": {},
   "outputs": [],
   "source": [
    "df = pd.read_csv('sp500_histdata.csv')\n",
    "df.index = df['Date']\n",
    "df.drop(df.columns[[0]], axis=1, inplace=True)\n",
    "df.index = pd.to_datetime(df.index)\n",
    "df.head()"
   ]
  },
  {
   "cell_type": "code",
   "execution_count": null,
   "metadata": {},
   "outputs": [],
   "source": [
    "'''\n",
    "Renaming pandas columns\n",
    "\n",
    "for stock in sp500_list:\n",
    "    df.rename(columns={stock+'_x':stock}, inplace=True)\n",
    "\n",
    "'''"
   ]
  },
  {
   "cell_type": "code",
   "execution_count": 126,
   "metadata": {},
   "outputs": [],
   "source": [
    "df['Date'] = pd.to_datetime(df['Date'])\n",
    "df = df.resample('M', on='Date').last()"
   ]
  },
  {
   "cell_type": "code",
   "execution_count": null,
   "metadata": {},
   "outputs": [],
   "source": [
    "df = pd.read_csv('sp500_histdata.csv')\n",
    "df.index = df['Date']\n",
    "df.drop(df.columns[[0]], axis=1, inplace=True)"
   ]
  },
  {
   "cell_type": "code",
   "execution_count": null,
   "metadata": {},
   "outputs": [],
   "source": [
    "### Calculating 6 month and 12 month returns\n",
    "\n",
    "#df['MMM_t-6'] = df['MMM'].shift(6)\n",
    "#df['MMM_t-12'] = df['MMM'].shift(12)"
   ]
  },
  {
   "cell_type": "code",
   "execution_count": 150,
   "metadata": {},
   "outputs": [
    {
     "name": "stdout",
     "output_type": "stream",
     "text": [
      "lets gooo!\n"
     ]
    }
   ],
   "source": [
    "# Adding 6m and 12m shift column to further calculate returns for the period\n",
    "\n",
    "for stock in sp500_list:\n",
    "    df = pd.read_csv(stock+'.csv')\n",
    "    df[stock+'_6m'] = df[stock].shift(6)\n",
    "    df[stock+'_12m'] = df[stock].shift(12)\n",
    "    df.to_csv(stock+'.csv')\n",
    "\n",
    "print('lets gooo!')"
   ]
  },
  {
   "cell_type": "code",
   "execution_count": null,
   "metadata": {},
   "outputs": [],
   "source": [
    "# 6m and 12m returns minus 3 month us t bill rate = 5.22% as of 5th feb 2024\n",
    "\n",
    "# Need to deduct t-bill return\n",
    "\n",
    "for stock in sp500_list:\n",
    "    df = pd.read_csv(stock+'.csv')\n",
    "    df[stock+'_6m_ret'] = (( df[stock]/df[stock+'_6m'] ) - 1 )\n",
    "    df[stock+'_12m_ret'] = (( df[stock]/df[stock+'_12m'] ) - 1 )\n",
    "    df.to_csv(stock+'.csv')"
   ]
  }
 ],
 "metadata": {
  "kernelspec": {
   "display_name": "Python 3",
   "language": "python",
   "name": "python3"
  },
  "language_info": {
   "codemirror_mode": {
    "name": "ipython",
    "version": 3
   },
   "file_extension": ".py",
   "mimetype": "text/x-python",
   "name": "python",
   "nbconvert_exporter": "python",
   "pygments_lexer": "ipython3",
   "version": "3.10.1"
  }
 },
 "nbformat": 4,
 "nbformat_minor": 2
}
