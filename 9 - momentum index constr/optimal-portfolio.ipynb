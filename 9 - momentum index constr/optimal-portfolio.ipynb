{
 "cells": [
  {
   "cell_type": "code",
   "execution_count": 1,
   "metadata": {},
   "outputs": [
    {
     "name": "stderr",
     "output_type": "stream",
     "text": [
      "c:\\Users\\Daksh Vashist\\AppData\\Local\\Programs\\Python\\Python310\\lib\\site-packages\\yfinance\\base.py:48: FutureWarning: The default dtype for empty Series will be 'object' instead of 'float64' in a future version. Specify a dtype explicitly to silence this warning.\n",
      "  _empty_series = pd.Series()\n"
     ]
    }
   ],
   "source": [
    "import datetime as dt\n",
    "import matplotlib.pyplot as plt\n",
    "from matplotlib import style\n",
    "import pandas as pd\n",
    "import yfinance as yf\n",
    "import numpy as np"
   ]
  },
  {
   "cell_type": "code",
   "execution_count": 2,
   "metadata": {},
   "outputs": [],
   "source": [
    "# Methodology reference: https://www.msci.com/eqb/methodology/meth_docs/MSCI_Momentum_Indexes_Methodology_Aug2021.pdf\n",
    "\n",
    "sp500_constituents = pd.read_html('https://en.wikipedia.org/wiki/List_of_S%26P_500_companies')[0]\n",
    "sp500_constituents.drop(sp500_constituents.columns[[1, 2, 3, 4, 5, 6, 7]], axis=1, inplace=True)"
   ]
  },
  {
   "cell_type": "code",
   "execution_count": 3,
   "metadata": {},
   "outputs": [],
   "source": [
    "sp500_list = sp500_constituents['Symbol'].to_list()\n",
    "\n",
    "sp500_list.remove('BRK.B')\n",
    "sp500_list.remove('BF.B')"
   ]
  },
  {
   "cell_type": "code",
   "execution_count": 7,
   "metadata": {},
   "outputs": [],
   "source": [
    "final_df = pd.DataFrame({'Stock Code': sp500_list,\n",
    "                             'Momentum Score (C)': np.nan})"
   ]
  },
  {
   "cell_type": "code",
   "execution_count": 5,
   "metadata": {},
   "outputs": [],
   "source": [
    "start = dt.datetime(2019, 1, 1)\n",
    "end = dt.datetime(2023, 12, 31)"
   ]
  },
  {
   "cell_type": "code",
   "execution_count": 6,
   "metadata": {},
   "outputs": [],
   "source": [
    "# Creating an empty dataframe for all of the stocks of S&P 500\n",
    "sp500_histdata = pd.DataFrame({\n",
    "    'Date':pd.date_range(start, end)\n",
    "    }\n",
    ")\n",
    "#sp500_histdata[sp500_list] = np.nan"
   ]
  },
  {
   "cell_type": "code",
   "execution_count": null,
   "metadata": {},
   "outputs": [],
   "source": [
    "sp500_histdata.tail()"
   ]
  },
  {
   "cell_type": "code",
   "execution_count": null,
   "metadata": {},
   "outputs": [],
   "source": [
    "# Data extraction using STOOQ\n",
    "\n",
    "name = 'AMZN'\n",
    "df = web.DataReader(name, 'stooq', start, end)\n",
    "df.rename(columns={'Close':name}, inplace=True)\n",
    "df.reset_index(inplace=True)\n",
    "#df.drop(df.columns[[1, 2, 3, 5]], axis=1, inplace=True)\n",
    "\n",
    "df.head()"
   ]
  },
  {
   "cell_type": "code",
   "execution_count": 9,
   "metadata": {},
   "outputs": [],
   "source": [
    "# Data extraction using YFINANCE\n",
    "\n",
    "amazon = yf.Ticker('AMZN')\n",
    "amazon_data = amazon.history(period='5y')\n",
    "amazon_data.reset_index(inplace=True)\n",
    "amazon_data.drop(amazon_data.columns[[1, 2, 3, 5, 6, 7]], axis=1, inplace=True)"
   ]
  },
  {
   "cell_type": "code",
   "execution_count": 10,
   "metadata": {},
   "outputs": [],
   "source": [
    " # Download stock close prices of a list of stocks using yfinance\n",
    "\n",
    "for stock in sp500_list:\n",
    "    try:\n",
    "        df = yf.Ticker(stock).history(period='5y')\n",
    "        df.rename(columns={'Close':stock}, inplace=True)\n",
    "        df.reset_index(inplace=True)\n",
    "        df.drop(df.columns[[1, 2, 3, 5, 6, 7]], axis=1, inplace=True)\n",
    "        df.to_csv(stock + '.csv')\n",
    "    except:\n",
    "        pass"
   ]
  },
  {
   "cell_type": "code",
   "execution_count": 29,
   "metadata": {},
   "outputs": [],
   "source": [
    "# Changing format of Date column to datetime type\n",
    "\n",
    "for stock in sp500_list:\n",
    "    try:\n",
    "        df = pd.read_csv(stock+'.csv')\n",
    "        df['Date'] = pd.to_datetime(df['Date'], utc=True)\n",
    "        df['Date'] = df['Date'].dt.strftime('%Y-%m-%d')\n",
    "        df.to_csv(stock+'.csv')\n",
    "    except:\n",
    "        print ('error')\n"
   ]
  },
  {
   "cell_type": "code",
   "execution_count": 83,
   "metadata": {},
   "outputs": [],
   "source": [
    "# Historical data prepared by joining stock price data of all S&P 500 stocks\n",
    "\n",
    "for stock in sp500_list:\n",
    "    df = pd.read_csv(stock + '.csv')\n",
    "    df['Date'] = pd.to_datetime(df['Date'])\n",
    "    df.drop(df.columns[[0, 1]], axis=1, inplace=True)\n",
    "    sp500_histdata = pd.merge(left=sp500_histdata,\n",
    "                     right=df,\n",
    "                     left_on=\"Date\",\n",
    "                     right_on=\"Date\",\n",
    "                     how=\"outer\")\n",
    "\n",
    "sp500_histdata.to_csv('sp500_histdata.csv')\n",
    "    "
   ]
  },
  {
   "cell_type": "code",
   "execution_count": 85,
   "metadata": {},
   "outputs": [],
   "source": [
    "df = pd.read_csv('sp500_histdata.csv')\n",
    "df.drop(df.columns[[0]], axis=1, inplace=True)\n",
    "df.index = df['Date']\n",
    "df.drop(df.columns[[0]], axis=1, inplace=True)\n",
    "df.dropna(axis=0, how='all', inplace=True)\n",
    "\n",
    "df.to_csv('sp500_histdata.csv')"
   ]
  },
  {
   "cell_type": "code",
   "execution_count": null,
   "metadata": {},
   "outputs": [],
   "source": [
    "df = pd.read_csv('sp500_histdata.csv')\n",
    "df.index = df['Date']\n",
    "df.drop(df.columns[[0]], axis=1, inplace=True)\n",
    "df.index = pd.to_datetime(df.index)\n",
    "df.head()"
   ]
  },
  {
   "cell_type": "code",
   "execution_count": null,
   "metadata": {},
   "outputs": [],
   "source": [
    "'''\n",
    "Renaming pandas columns\n",
    "\n",
    "for stock in sp500_list:\n",
    "    df.rename(columns={stock+'_x':stock}, inplace=True)\n",
    "\n",
    "'''"
   ]
  },
  {
   "cell_type": "code",
   "execution_count": 126,
   "metadata": {},
   "outputs": [],
   "source": [
    "df['Date'] = pd.to_datetime(df['Date'])\n",
    "df = df.resample('M', on='Date').last()"
   ]
  },
  {
   "cell_type": "code",
   "execution_count": null,
   "metadata": {},
   "outputs": [],
   "source": [
    "df = pd.read_csv('sp500_histdata.csv')\n",
    "df.index = df['Date']\n",
    "df.drop(df.columns[[0]], axis=1, inplace=True)"
   ]
  },
  {
   "cell_type": "code",
   "execution_count": null,
   "metadata": {},
   "outputs": [],
   "source": [
    "### Calculating 6 month and 12 month returns\n",
    "\n",
    "#df['MMM_t-6'] = df['MMM'].shift(6)\n",
    "#df['MMM_t-12'] = df['MMM'].shift(12)"
   ]
  },
  {
   "cell_type": "code",
   "execution_count": 150,
   "metadata": {},
   "outputs": [
    {
     "name": "stdout",
     "output_type": "stream",
     "text": [
      "lets gooo!\n"
     ]
    }
   ],
   "source": [
    "# Adding 6m and 12m shift column to further calculate returns for the period\n",
    "\n",
    "for stock in sp500_list:\n",
    "    df = pd.read_csv(stock+'.csv')\n",
    "    df[stock+'_6m'] = df[stock].shift(6)\n",
    "    df[stock+'_12m'] = df[stock].shift(12)\n",
    "    df.to_csv(stock+'.csv')\n",
    "\n",
    "print('lets gooo!')"
   ]
  },
  {
   "cell_type": "code",
   "execution_count": 6,
   "metadata": {},
   "outputs": [],
   "source": [
    "# 6m and 12m returns minus 3 month us t bill rate = 5.22% as of 5th feb 2024\n",
    "\n",
    "# Need to deduct t-bill return\n",
    "\n",
    "for stock in sp500_list:\n",
    "    df = pd.read_csv(stock+'.csv')\n",
    "    df[stock+'_6m_ret'] = (( df[stock]/df[stock+'_6m'] ) - 1 )\n",
    "    df[stock+'_12m_ret'] = (( df[stock]/df[stock+'_12m'] ) - 1 )\n",
    "    df.to_csv(stock+'.csv')"
   ]
  },
  {
   "cell_type": "code",
   "execution_count": 36,
   "metadata": {},
   "outputs": [
    {
     "data": {
      "text/html": [
       "<div>\n",
       "<style scoped>\n",
       "    .dataframe tbody tr th:only-of-type {\n",
       "        vertical-align: middle;\n",
       "    }\n",
       "\n",
       "    .dataframe tbody tr th {\n",
       "        vertical-align: top;\n",
       "    }\n",
       "\n",
       "    .dataframe thead th {\n",
       "        text-align: right;\n",
       "    }\n",
       "</style>\n",
       "<table border=\"1\" class=\"dataframe\">\n",
       "  <thead>\n",
       "    <tr style=\"text-align: right;\">\n",
       "      <th></th>\n",
       "      <th>Stock Code</th>\n",
       "      <th>Price_t_1</th>\n",
       "      <th>Price_t_7</th>\n",
       "      <th>Price_t_13</th>\n",
       "    </tr>\n",
       "  </thead>\n",
       "  <tbody>\n",
       "    <tr>\n",
       "      <th>0</th>\n",
       "      <td>MMM</td>\n",
       "      <td>None</td>\n",
       "      <td>None</td>\n",
       "      <td>None</td>\n",
       "    </tr>\n",
       "    <tr>\n",
       "      <th>1</th>\n",
       "      <td>AOS</td>\n",
       "      <td>None</td>\n",
       "      <td>None</td>\n",
       "      <td>None</td>\n",
       "    </tr>\n",
       "    <tr>\n",
       "      <th>2</th>\n",
       "      <td>ABT</td>\n",
       "      <td>None</td>\n",
       "      <td>None</td>\n",
       "      <td>None</td>\n",
       "    </tr>\n",
       "    <tr>\n",
       "      <th>3</th>\n",
       "      <td>ABBV</td>\n",
       "      <td>None</td>\n",
       "      <td>None</td>\n",
       "      <td>None</td>\n",
       "    </tr>\n",
       "    <tr>\n",
       "      <th>4</th>\n",
       "      <td>ACN</td>\n",
       "      <td>None</td>\n",
       "      <td>None</td>\n",
       "      <td>None</td>\n",
       "    </tr>\n",
       "  </tbody>\n",
       "</table>\n",
       "</div>"
      ],
      "text/plain": [
       "  Stock Code Price_t_1 Price_t_7 Price_t_13\n",
       "0        MMM      None      None       None\n",
       "1        AOS      None      None       None\n",
       "2        ABT      None      None       None\n",
       "3       ABBV      None      None       None\n",
       "4        ACN      None      None       None"
      ]
     },
     "execution_count": 36,
     "metadata": {},
     "output_type": "execute_result"
    }
   ],
   "source": [
    "final_df = pd.read_csv('final_df.csv')\n",
    "final_df[['Price_t_1', 'Price_t_7', 'Price_t_13']] = None\n",
    "final_df.to_csv('final_df.csv', index=False)\n",
    "\n",
    "final_df.head()"
   ]
  },
  {
   "cell_type": "code",
   "execution_count": 4,
   "metadata": {},
   "outputs": [],
   "source": [
    "## Rebelancing date assumed to be 1st January 2024\n",
    "\n",
    "t_1 = '2023-11-30'\n",
    "t_7 = '2023-05-31'\n",
    "t_13 = '2022-05-31'"
   ]
  },
  {
   "cell_type": "code",
   "execution_count": null,
   "metadata": {},
   "outputs": [],
   "source": [
    "# Rebalance date: 1st January 2024. t-1 = 2023-11-30, t-7 = 2023-05-31, t-13 = 2022-05-31\n",
    "\n",
    "\n",
    "### Adding values for t_1 into final_df\n",
    "\n",
    "final_df = pd.read_csv('final_df.csv')\n",
    "\n",
    "for item in range(0,501):\n",
    "    df = pd.read_csv(final_df['Stock Code'][item] + '.csv')\n",
    "    price = df.loc[df['Date']==t_1][final_df['Stock Code'][item]]\n",
    "    final_df['Price_t_1'][item] = price\n",
    "\n",
    "final_df.to_csv('final_df.csv', index=False)"
   ]
  },
  {
   "cell_type": "code",
   "execution_count": null,
   "metadata": {},
   "outputs": [],
   "source": [
    "### Adding values for t_7 into final_df\n",
    "\n",
    "final_df = pd.read_csv('final_df.csv')\n",
    "\n",
    "for item in range(0,501):\n",
    "    df = pd.read_csv(final_df['Stock Code'][item] + '.csv')\n",
    "    price = df.loc[df['Date']==t_7][final_df['Stock Code'][item]]\n",
    "    final_df['Price_t_7'][item] = price\n",
    "    final_df.to_csv('final_df.csv', index=False)"
   ]
  },
  {
   "cell_type": "code",
   "execution_count": null,
   "metadata": {},
   "outputs": [],
   "source": [
    "### Adding values for t_13 into final_df\n",
    "\n",
    "final_df = pd.read_csv('final_df.csv')\n",
    "\n",
    "for item in range(0,501):\n",
    "    df = pd.read_csv(final_df['Stock Code'][item] + '.csv')\n",
    "    price = df.loc[df['Date']==t_13][final_df['Stock Code'][item]]\n",
    "    final_df['Price_t_13'][item] = price\n",
    "    final_df.to_csv('final_df.csv', index=False)"
   ]
  },
  {
   "cell_type": "code",
   "execution_count": 6,
   "metadata": {},
   "outputs": [
    {
     "name": "stdout",
     "output_type": "stream",
     "text": [
      "  Stock Code   Price_t_1   Price_t_7  Price_t_13\n",
      "0        MMM   99.070000   90.510773  137.736343\n",
      "1        AOS   75.064651   63.130753   58.191288\n",
      "2        ABT  103.788605  100.468941  113.559708\n",
      "3       ABBV  141.042435  133.816589  137.606705\n",
      "4        ACN  331.927948  302.450317  290.394440\n"
     ]
    }
   ],
   "source": [
    "final_df = pd.read_csv('final_df.csv')\n",
    "print(final_df.head())"
   ]
  },
  {
   "cell_type": "code",
   "execution_count": 7,
   "metadata": {},
   "outputs": [
    {
     "data": {
      "text/html": [
       "<div>\n",
       "<style scoped>\n",
       "    .dataframe tbody tr th:only-of-type {\n",
       "        vertical-align: middle;\n",
       "    }\n",
       "\n",
       "    .dataframe tbody tr th {\n",
       "        vertical-align: top;\n",
       "    }\n",
       "\n",
       "    .dataframe thead th {\n",
       "        text-align: right;\n",
       "    }\n",
       "</style>\n",
       "<table border=\"1\" class=\"dataframe\">\n",
       "  <thead>\n",
       "    <tr style=\"text-align: right;\">\n",
       "      <th></th>\n",
       "      <th>Stock Code</th>\n",
       "      <th>Price_t_1</th>\n",
       "      <th>Price_t_7</th>\n",
       "      <th>Price_t_13</th>\n",
       "      <th>6m_mom</th>\n",
       "      <th>12m_mom</th>\n",
       "    </tr>\n",
       "  </thead>\n",
       "  <tbody>\n",
       "    <tr>\n",
       "      <th>0</th>\n",
       "      <td>MMM</td>\n",
       "      <td>99.070000</td>\n",
       "      <td>90.510773</td>\n",
       "      <td>137.736343</td>\n",
       "      <td>0.094566</td>\n",
       "      <td>-0.280727</td>\n",
       "    </tr>\n",
       "    <tr>\n",
       "      <th>1</th>\n",
       "      <td>AOS</td>\n",
       "      <td>75.064651</td>\n",
       "      <td>63.130753</td>\n",
       "      <td>58.191288</td>\n",
       "      <td>0.189035</td>\n",
       "      <td>0.289964</td>\n",
       "    </tr>\n",
       "    <tr>\n",
       "      <th>2</th>\n",
       "      <td>ABT</td>\n",
       "      <td>103.788605</td>\n",
       "      <td>100.468941</td>\n",
       "      <td>113.559708</td>\n",
       "      <td>0.033042</td>\n",
       "      <td>-0.086044</td>\n",
       "    </tr>\n",
       "    <tr>\n",
       "      <th>3</th>\n",
       "      <td>ABBV</td>\n",
       "      <td>141.042435</td>\n",
       "      <td>133.816589</td>\n",
       "      <td>137.606705</td>\n",
       "      <td>0.053998</td>\n",
       "      <td>0.024968</td>\n",
       "    </tr>\n",
       "    <tr>\n",
       "      <th>4</th>\n",
       "      <td>ACN</td>\n",
       "      <td>331.927948</td>\n",
       "      <td>302.450317</td>\n",
       "      <td>290.394440</td>\n",
       "      <td>0.097463</td>\n",
       "      <td>0.143024</td>\n",
       "    </tr>\n",
       "  </tbody>\n",
       "</table>\n",
       "</div>"
      ],
      "text/plain": [
       "  Stock Code   Price_t_1   Price_t_7  Price_t_13    6m_mom   12m_mom\n",
       "0        MMM   99.070000   90.510773  137.736343  0.094566 -0.280727\n",
       "1        AOS   75.064651   63.130753   58.191288  0.189035  0.289964\n",
       "2        ABT  103.788605  100.468941  113.559708  0.033042 -0.086044\n",
       "3       ABBV  141.042435  133.816589  137.606705  0.053998  0.024968\n",
       "4        ACN  331.927948  302.450317  290.394440  0.097463  0.143024"
      ]
     },
     "execution_count": 7,
     "metadata": {},
     "output_type": "execute_result"
    }
   ],
   "source": [
    "### Creating columns for 6month and 12month Price momentum score (unstandardized)\n",
    "\n",
    "final_df['6m_mom'] = (final_df['Price_t_1']/final_df['Price_t_7']) - 1\n",
    "final_df['12m_mom'] = (final_df['Price_t_1']/final_df['Price_t_13']) - 1\n",
    "final_df.head()"
   ]
  },
  {
   "cell_type": "code",
   "execution_count": 8,
   "metadata": {},
   "outputs": [],
   "source": [
    "# creating column for risk adjusted scores: 6m and 12m\n",
    "\n",
    "final_df[['6m_risk_adj', '12m_risk_adj']] = None"
   ]
  },
  {
   "cell_type": "code",
   "execution_count": null,
   "metadata": {},
   "outputs": [],
   "source": [
    "## Calculating standard deviation --> Annualized Standard Deviation of weekly local price returns over the period of 3 years \n",
    "## 3 years = 1st January 2021 - 31st December 2023\n",
    "import statistics\n",
    "y_bgn = '2021-01-04'\n",
    "y_end = '2023-12-29'\n",
    "\n",
    "\n",
    "final_df = pd.read_csv('final_df.csv')\n",
    "\n",
    "for item in range(0,501):\n",
    "    df = pd.read_csv(final_df['Stock Code'][item] + '.csv')\n",
    "    final_df['6m_risk_adj'][item] = statistics.stdev([df])\n",
    "    final_df.to_csv('final_df.csv', index=False)"
   ]
  }
 ],
 "metadata": {
  "kernelspec": {
   "display_name": "Python 3",
   "language": "python",
   "name": "python3"
  },
  "language_info": {
   "codemirror_mode": {
    "name": "ipython",
    "version": 3
   },
   "file_extension": ".py",
   "mimetype": "text/x-python",
   "name": "python",
   "nbconvert_exporter": "python",
   "pygments_lexer": "ipython3",
   "version": "3.10.1"
  }
 },
 "nbformat": 4,
 "nbformat_minor": 2
}
